{
 "cells": [
  {
   "cell_type": "code",
   "execution_count": 16,
   "metadata": {},
   "outputs": [],
   "source": [
    "import pandas as pd\n",
    "import numpy as np\n",
    "import os\n",
    "import sys\n",
    "import json\n",
    "import re\n",
    "import time\n",
    "import pathlib\n",
    "from pathlib import Path\n",
    "import janitor\n",
    "from janitor import clean_names\n"
   ]
  },
  {
   "cell_type": "code",
   "execution_count": 108,
   "metadata": {},
   "outputs": [],
   "source": [
    "# Set current_dir to the directory of the notebook\n",
    "current_dir = Path().resolve()  # This will get the current working directory\n",
    "\n",
    "data_path = current_dir.parent / 'data' / 'modules.xlsx'\n",
    "\n",
    "# import and clean energy consumption data\n",
    "company_total_ec_df = pd.read_excel(data_path, sheet_name='Company Total Electricity Use', skiprows=1)\n",
    "company_total_ec_df = company_total_ec_df.clean_names()\n",
    "company_total_ec_df.rename(columns={'company': 'company_name'}, inplace=True)\n",
    "company_total_ec_df = company_total_ec_df[['company_name', 'reported_data_year']]\n",
    "company_total_ec_df = company_total_ec_df.dropna(subset=['reported_data_year']) # remove rows with no data\n",
    "\n",
    "dc_ec_df = pd.read_excel(data_path, sheet_name='Data Center Electricity Use ', skiprows=1)\n",
    "dc_ec_df = dc_ec_df.clean_names()\n",
    "dc_ec_df = dc_ec_df[['company_name', 'reported_data_year']]\n",
    "\n",
    "dc_fuel_df = pd.read_excel(data_path, sheet_name='Data Center Fuel Use ', skiprows=1)\n",
    "dc_fuel_df = dc_fuel_df.clean_names()\n",
    "dc_fuel_df = dc_fuel_df[['company_name', 'reported_data_year']]\n",
    "\n",
    "dc_water_df = pd.read_excel(data_path, sheet_name='Data Center Water Use ', skiprows=1)\n",
    "dc_water_df = dc_water_df.clean_names()\n",
    "dc_water_df = dc_water_df[['company_name', 'reported_data_year']]\n",
    "\n",
    "# add a reporting_scope column to each DataFrame\n",
    "company_total_ec_df.loc[:, 'reporting_scope'] = 'Company Wide Electricity Use'\n",
    "dc_ec_df.loc[:, 'reporting_scope'] = 'Data Center Electricity Use'\n",
    "dc_fuel_df.loc[:, 'reporting_scope'] = 'Data Center Fuel Use'\n",
    "dc_water_df.loc[:, 'reporting_scope'] = 'Data Center Water Use'\n",
    "\n",
    "# combine all the dfs into one - maintaining the original columns\n",
    "reporting_df = pd.concat([company_total_ec_df, dc_ec_df, dc_fuel_df, dc_water_df], axis=0)\n",
    "reporting_df['reported_data_year'] = reporting_df['reported_data_year'].astype(int)\n",
    "\n",
    "reporting_df['reported_data_year']\n",
    "\n",
    "# Group by reported_data_year and reporting_scope, counting unique companies\n",
    "filteredreporting_df = reporting_df.groupby(['reported_data_year', 'reporting_scope'])['company_name'].nunique().reset_index()\n",
    "\n",
    "# Rename the count column for clarity\n",
    "reporting_df.rename(columns={'company_name': 'num_companies'}, inplace=True)\n"
   ]
  },
  {
   "cell_type": "code",
   "execution_count": 111,
   "metadata": {},
   "outputs": [
    {
     "data": {
      "text/html": [
       "<div>\n",
       "<style scoped>\n",
       "    .dataframe tbody tr th:only-of-type {\n",
       "        vertical-align: middle;\n",
       "    }\n",
       "\n",
       "    .dataframe tbody tr th {\n",
       "        vertical-align: top;\n",
       "    }\n",
       "\n",
       "    .dataframe thead th {\n",
       "        text-align: right;\n",
       "    }\n",
       "</style>\n",
       "<table border=\"1\" class=\"dataframe\">\n",
       "  <thead>\n",
       "    <tr style=\"text-align: right;\">\n",
       "      <th></th>\n",
       "      <th>reported_data_year</th>\n",
       "      <th>reporting_scope</th>\n",
       "      <th>num_companies</th>\n",
       "    </tr>\n",
       "  </thead>\n",
       "  <tbody>\n",
       "    <tr>\n",
       "      <th>58</th>\n",
       "      <td>2022</td>\n",
       "      <td>Company Wide Electricity Use</td>\n",
       "      <td>27</td>\n",
       "    </tr>\n",
       "  </tbody>\n",
       "</table>\n",
       "</div>"
      ],
      "text/plain": [
       "    reported_data_year               reporting_scope  num_companies\n",
       "58                2022  Company Wide Electricity Use             27"
      ]
     },
     "execution_count": 111,
     "metadata": {},
     "output_type": "execute_result"
    }
   ],
   "source": [
    "reporting_df[(reporting_df['reported_data_year']==2022)&\n",
    "                    (reporting_df['reporting_scope']=='Company Wide Electricity Use')] #.count()"
   ]
  }
 ],
 "metadata": {
  "kernelspec": {
   "display_name": "eds220-env",
   "language": "python",
   "name": "python3"
  },
  "language_info": {
   "codemirror_mode": {
    "name": "ipython",
    "version": 3
   },
   "file_extension": ".py",
   "mimetype": "text/x-python",
   "name": "python",
   "nbconvert_exporter": "python",
   "pygments_lexer": "ipython3",
   "version": "3.11.4"
  }
 },
 "nbformat": 4,
 "nbformat_minor": 2
}
